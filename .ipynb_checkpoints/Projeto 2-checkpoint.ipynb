{
 "cells": [
  {
   "cell_type": "markdown",
   "metadata": {},
   "source": [
    "# Projeto 2 - Ciência dos Dados"
   ]
  },
  {
   "cell_type": "markdown",
   "metadata": {},
   "source": [
    "<div id=\"objetivo_do_projeto\"></div>\n",
    "\n",
    "## Contribuidores: \n",
    "\n",
    "- Henrique Badin\n",
    "- Henrique Rocha\n",
    "- Larissa Jordana de Paula Soares"
   ]
  },
  {
   "cell_type": "markdown",
   "metadata": {},
   "source": [
    "## Indice\n",
    "\n",
    "- [Objetivo do projeto](#objetivo_do_projeto)\n",
    "- [Introdução](#introdução)\n"
   ]
  },
  {
   "cell_type": "markdown",
   "metadata": {},
   "source": [
    "## Objetivo do projeto\n",
    "> O principal objetivo do Projeto 2 é prever uma variável principal em função de demais outras \n",
    "variáveis que podem influenciar em seu comportamento. Para seu conhecimento, a tabela abaixo \n",
    "mostra como essas variáveis são nomeadas nas áreas de ciência dos dados e estatística.\n",
    "\n",
    "<img src=\"objv.png\" height=\"50\">\n",
    "\n",
    "#### O tema deverá ser proposto pelo grupo, assim como a busca por uma base de dados que permita  responder alguns interesses levantados no tema escolhido. O tema deve deixar claro uma pergunta e se o objetivo contempla:\n",
    "\n",
    "> - Prever um rótulo (nesse caso, o target é qualitativo e trata-se de uma classificação). Por  exemplo, considerando uma playlist de uma pessoa, Spotify deve ou não recomendar uma  nova música a essa pessoa. \n",
    "> - Prever uma informação numérica (nesse caso, o target é quantitativo). Por exemplo, considerando as algumas características de imóveis de uma determinada região, uma corretora de imóveis deve prever o valor de um novo imóvel que será lançado nessa região"
   ]
  },
  {
   "cell_type": "markdown",
   "metadata": {},
   "source": []
  },
  {
   "cell_type": "markdown",
   "metadata": {},
   "source": [
    "<div id=\"introdução\"></div>\n",
    "\n",
    "## Introdução \n",
    "\n",
    "\n",
    "### Contexto do tema \"Qualidade do Vinho\"\n",
    "\n",
    "> O vinho é uma bebida mundialmente apreciada. O aroma anuncia o sabor do vinho, que, quando em contato com as papilas gustativas, ativam nosso paladar e aguça-o. Antes de experimentá-lo, porém, devemos estar prontos para distinguir os variados tipos e saber com qual comida cada um combina cada um, para ter harmonia entre os sabores.\n",
    "\n",
    "\n",
    "#### O que é um vinho?\n",
    "O vinho é uma bebida natural. Por definição, ele é resultado da fermentação das uvas, que acontece quando as leveduras (fungos microscópicos), presentes nas cascas das uvas, penetram no fruto e transformam os açúcares da uva (glicose e frutose) em álcool etílico e gás carbônico:\n",
    "> Açúcar da uva + leveduras = Álcool etílico + Gás Carbônico (CO2) + Energia\n",
    "\n",
    "#### Como classificar um vinho? \n",
    "Um vinho pode ser classificado de acordo com a classe, cor, teor de açúcar e tipos.\n",
    "\n",
    "- **Classe**\n",
    "\n",
    ">> - Vinhos de mesa: variam entre finos, nobres, especiais, comuns, frisantes ou gaseificados, com graduação alcoólica de 10 a 13°\n",
    "\n",
    ">> - Vinhos leves: graduação alcoólica de 7 a 9,9°\n",
    "\n",
    ">> - Champagne: é um tipo espumante e com gradação alcoólica de 14 a 18°\n",
    "\n",
    ">> - Vinhos compostos: são preparados com adição de algum outro ingrediente, como produtos de origem animal, vegetal ou óleos, com graduação alcoólica de 15 a 18°\n",
    "\n",
    ">> - Vinhos licorosos: como o nome sugere, tem aspecto de licor, com graduação alcoólica de 15 a 18°\n",
    "\n",
    "- **Cor**\n",
    "\n",
    ">> **Vinho tinto:** é o tipo de vinho mais comercializado no mundo. É elaborado a partir de variedades de uvas de coloração avermelhada ou roxa.\n",
    "\n",
    ">> **Vinho branco:** elaborado a partir da fermentação de uvas brancas ou escuras, sem uso da casca.\n",
    "\n",
    ">> **Vinho rosé:** pode ser uma combinação da preparação tinta com a preparação branca, mas também pode ser elaborado com uvas escuras que liberem pouca coloração no processo de fermentação.\n",
    "\n",
    "- **Teor de açúcar**\n",
    "\n",
    ">> **Vinho seco (brut):** a cada litro é adicionado até 5g de açúcar no preparo.\n",
    "\n",
    ">> **Vinho demi-sec:** a cada litro é adicionado entre 5 e 20g de açúcar no preparo.\n",
    "\n",
    ">> **Vinho suave:** a cada litro é adicionado mais de 20g de açúcar no preparo.\n",
    "\n",
    "- **Tipos de uvas (e de vinhos!)**\n",
    "\n",
    ">> **Cabernet Sauvignon:** é o tipo de uva mais utilizado na produção de vinhos no mundo todo. Os vinhos produzidos são, geralmente, de mesa, tintos e secos e equilibrados no amargor e no aroma. Harmoniza bem com queijos fortes e carnes vermelhas.\n",
    "\n",
    ">> **Malbec:** tipo de vinho mais encorpado e amargo que o Cabernet. Par perfeito para o churrasco e um bom pedaço de picanha.\n",
    "\n",
    ">> **Merlot:** é semelhante à Cabernet, porém proporciona um aroma mais frutado e sofisticado. Combina bem com massas, molhos encorpados e aves.\n",
    "\n",
    ">> **Tannat:** possui coloração intensa e sabor característico. Esse vinho dá match com gorduras e pratos bastante encorpados e condimentados.\n",
    "\n",
    ">> **Pinot Noir:** pode ser usada para elaborar vinhos de mesa ou espumantes, pois é suave e muito delicada. Adequado para queijos leves, carne de porco, salmão e frutos do mar.\n",
    "\n",
    ">> **Chardonnay:** tipo de uva branca, considerada uma das mais nobres na elaboração de vinhos de mesa e espumantes. Também é usada na elaboração de champagnes. Pratos à base de aves, como galinha ou peru; e peixes ou frutos do mar formam uma ótima pedida para um vinho Chardonnay.\n",
    "\n",
    "### Descrição do tema e perguntas propostas\n",
    "\n",
    ">Com base nas informações apresentadas no **contexto** do tema escolhido e explorado, uma das hipóteses a ser explorada, ou se não, uma das perguntas principais que procura-se responder, é se pelos parâmetros de classe, cor, teor de açúcar, tipo de uvas, acidez por exemplo, **é possível classificar a qualidade do vinho**. Para isso, será necessário fazer uma análise exploratória completa em uma base de dados (dataset escolhido) e conseguir informações suficientes para poder prever possíveis resultados com a hipótese levantada. \n",
    "    Nesse sentido, o projeto apresentado abaixo é um Classificador Categórico, sendo o target qualitativo e as features quantitativas."
   ]
  },
  {
   "cell_type": "markdown",
   "metadata": {},
   "source": [
    "<div id=\"dataset\"></div>\n",
    "\n",
    "\n",
    "## Características do dataset e bibliotecas escolhidos \n",
    "---\n",
    "### Dataset\n",
    "link para o dataset: [clique aqui](#https://www.kaggle.com/datasets/yasserh/wine-quality-dataset?resource=download)\n",
    "\n",
    "> Features utilizadas:\n",
    ">> **Variáveis de entrada (baseadas em testes físico-químicos):**\n",
    ">>> - 1 - acidez fixa\n",
    ">>> - 2 - acidez volátil\n",
    ">>> - 3 - ácido cítrico\n",
    ">>> - 4 - açúcar residual\n",
    ">>> - 5 - cloretos\n",
    ">>> - 6 - dióxido de enxofre livre\n",
    ">>> - 7 - dióxido de enxofre total\n",
    ">>> - 8 - densidade\n",
    ">>> - 9 - pH\n",
    ">>> - 10 - sulfatos\n",
    ">>> - 11 - álcool\n"
   ]
  },
  {
   "cell_type": "code",
   "execution_count": null,
   "metadata": {},
   "outputs": [],
   "source": []
  },
  {
   "cell_type": "code",
   "execution_count": null,
   "metadata": {},
   "outputs": [],
   "source": []
  },
  {
   "cell_type": "code",
   "execution_count": null,
   "metadata": {},
   "outputs": [],
   "source": []
  },
  {
   "cell_type": "code",
   "execution_count": null,
   "metadata": {},
   "outputs": [],
   "source": []
  },
  {
   "cell_type": "code",
   "execution_count": null,
   "metadata": {},
   "outputs": [],
   "source": []
  },
  {
   "cell_type": "code",
   "execution_count": null,
   "metadata": {},
   "outputs": [],
   "source": []
  },
  {
   "cell_type": "code",
   "execution_count": null,
   "metadata": {},
   "outputs": [],
   "source": []
  },
  {
   "cell_type": "code",
   "execution_count": null,
   "metadata": {},
   "outputs": [],
   "source": []
  },
  {
   "cell_type": "code",
   "execution_count": null,
   "metadata": {},
   "outputs": [],
   "source": []
  },
  {
   "cell_type": "code",
   "execution_count": null,
   "metadata": {},
   "outputs": [],
   "source": []
  },
  {
   "cell_type": "markdown",
   "metadata": {},
   "source": [
    "# Referências Bibliográficas\n",
    "\n",
    "\n",
    "1. https://www.uov.com.br/cursos-online-treinamento-profissional/artigos/tudo-o-que-voce-precisa-saber-sobre-vinhos\n",
    "2. https://www.kaggle.com/datasets/yasserh/wine-quality-dataset?resource=download\n",
    "3. https://repositorio.ufsm.br/bitstream/handle/1/24624/TG498_%20Gabriel%20Tobias%20Fuhr.pdf?sequence=1&isAllowed=y"
   ]
  },
  {
   "cell_type": "code",
   "execution_count": null,
   "metadata": {},
   "outputs": [],
   "source": []
  }
 ],
 "metadata": {
  "kernelspec": {
   "display_name": "Python 3",
   "language": "python",
   "name": "python3"
  },
  "language_info": {
   "codemirror_mode": {
    "name": "ipython",
    "version": 3
   },
   "file_extension": ".py",
   "mimetype": "text/x-python",
   "name": "python",
   "nbconvert_exporter": "python",
   "pygments_lexer": "ipython3",
   "version": "3.8.5"
  }
 },
 "nbformat": 4,
 "nbformat_minor": 4
}
